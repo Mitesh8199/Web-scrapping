{
 "cells": [
  {
   "cell_type": "code",
   "execution_count": 81,
   "metadata": {},
   "outputs": [],
   "source": [
    "import requests\n",
    "from bs4 import BeautifulSoup"
   ]
  },
  {
   "cell_type": "code",
   "execution_count": 82,
   "metadata": {},
   "outputs": [
    {
     "name": "stdout",
     "output_type": "stream",
     "text": [
      "\n",
      "  <!DOCTYPE html>\n",
      "  <html lang=\"en\">\n",
      "    <head>\n",
      "      <meta charset=\"utf-8\">\n",
      "      <meta http-equiv=\"x-ua-compatible\" content=\"ie=edge\">\n",
      "      <meta name=\"viewport\" content=\"width=device-width, initial-scale=1.0, user-scalable=0, minimum-scale=1.0\">\n",
      "      <meta name=\"theme-color\" content=\"#e42529\">\n",
      "      <meta name=\"apple-mobile-web-app-capable\" content=\"yes\">\n",
      "      <meta name=\"apple-mobile-web-app-status-bar-style\" content=\"#e42529\">\n",
      "      <meta name=\"apple-mobile-web-app-title\" content=\"A2HS \n"
     ]
    }
   ],
   "source": [
    "r = requests.get('https://www.reliancedigital.in/laptops/c/S101210?searchQuery=HP:relevance')\n",
    "print(r.text[0:500])"
   ]
  },
  {
   "cell_type": "code",
   "execution_count": 83,
   "metadata": {},
   "outputs": [],
   "source": [
    "soup = BeautifulSoup(r.text, 'html.parser')"
   ]
  },
  {
   "cell_type": "code",
   "execution_count": 84,
   "metadata": {},
   "outputs": [],
   "source": [
    "results = soup.find_all('div', attrs={'class':'slider-text'})"
   ]
  },
  {
   "cell_type": "code",
   "execution_count": 85,
   "metadata": {},
   "outputs": [
    {
     "data": {
      "text/plain": [
       "24"
      ]
     },
     "execution_count": 85,
     "metadata": {},
     "output_type": "execute_result"
    }
   ],
   "source": [
    "len(results)"
   ]
  },
  {
   "cell_type": "code",
   "execution_count": 86,
   "metadata": {},
   "outputs": [
    {
     "data": {
      "text/plain": [
       "<div class=\"slider-text\"><p class=\"sp__name\">HP 14-dh1025tx Pavilion x360 Laptop (10th Gen Intel Core i5-10210/8GB/1TB HDD + 256GB SSD/2GB Nvidia MX130 Graphics/Windows 10/MSO/FHD Touchscreen), 35.56 cm (14 inch)</p><div class=\"sc-kkGfuU gTJVrD\"><div class=\"sc-kkGfuU iBJipH\"><div class=\"sc-fjdhpX ervBxB sc-gZMcBi dYVEvs\"><span class=\"sc-gZMcBi geJKNb\">₹86,999</span><span class=\"sc-gZMcBi sc-TOsTZ gVFIuX\"><em><span class=\"sc-gZMcBi kSCorH\">₹</span>94042</em></span><span class=\"sc-fjdhpX brAVUb sc-gZMcBi jzMgtX\">7%(₹7,043)</span></div></div></div><div class=\"sp__chip sc-fjdhpX jsJEcL\"><div background=\"lightGreen1\" bordercolor=\"\" class=\"sc-iAyFgw fDJYew\">offers available</div><div background=\"lightGreen1\" bordercolor=\"\" class=\"sc-iAyFgw fDJYew\">No Cost EMI</div></div></div>"
      ]
     },
     "execution_count": 86,
     "metadata": {},
     "output_type": "execute_result"
    }
   ],
   "source": [
    "results[10]"
   ]
  },
  {
   "cell_type": "code",
   "execution_count": 87,
   "metadata": {},
   "outputs": [
    {
     "data": {
      "text/plain": [
       "<div class=\"slider-text\"><p class=\"sp__name\">HP 15-cs1000TX Pavilion Laptop (8th Gen Intel Core i5-8650U/8GB/1TB HDD/2GB 130MX GFX Graphics/Windows 10/MSO/FHD), 39.62 cm (15.6 inch)</p><div class=\"sc-kkGfuU gTJVrD\"><div class=\"sc-kkGfuU iBJipH\"><div class=\"sc-fjdhpX ervBxB sc-gZMcBi dYVEvs\"><span class=\"sc-gZMcBi geJKNb\">₹59,999</span><span class=\"sc-gZMcBi sc-TOsTZ gVFIuX\"><em><span class=\"sc-gZMcBi kSCorH\">₹</span>67866</em></span><span class=\"sc-fjdhpX brAVUb sc-gZMcBi jzMgtX\">12%(₹7,867)</span></div></div></div><div class=\"sp__chip sc-fjdhpX jsJEcL\"><div background=\"lightGreen1\" bordercolor=\"\" class=\"sc-iAyFgw fDJYew\">offers available</div><div background=\"lightGreen1\" bordercolor=\"\" class=\"sc-iAyFgw fDJYew\">No Cost EMI</div></div></div>"
      ]
     },
     "execution_count": 87,
     "metadata": {},
     "output_type": "execute_result"
    }
   ],
   "source": [
    "first_result = results[0]\n",
    "first_result\n"
   ]
  },
  {
   "cell_type": "code",
   "execution_count": 88,
   "metadata": {},
   "outputs": [
    {
     "data": {
      "text/plain": [
       "'HP 15-cs1000TX Pavilion Laptop (8th Gen Intel Core i5-8650U/8GB/1TB HDD/2GB 130MX GFX Graphics/Windows 10/MSO/FHD), 39.62 cm (15.6 inch)'"
      ]
     },
     "execution_count": 88,
     "metadata": {},
     "output_type": "execute_result"
    }
   ],
   "source": [
    "lappy_name = first_result.find('p').text\n",
    "lappy_name"
   ]
  },
  {
   "cell_type": "code",
   "execution_count": 89,
   "metadata": {},
   "outputs": [
    {
     "data": {
      "text/plain": [
       "[<p class=\"sp__name\">HP 15-cs1000TX Pavilion Laptop (8th Gen Intel Core i5-8650U/8GB/1TB HDD/2GB 130MX GFX Graphics/Windows 10/MSO/FHD), 39.62 cm (15.6 inch)</p>,\n",
       " <div class=\"sc-kkGfuU gTJVrD\"><div class=\"sc-kkGfuU iBJipH\"><div class=\"sc-fjdhpX ervBxB sc-gZMcBi dYVEvs\"><span class=\"sc-gZMcBi geJKNb\">₹59,999</span><span class=\"sc-gZMcBi sc-TOsTZ gVFIuX\"><em><span class=\"sc-gZMcBi kSCorH\">₹</span>67866</em></span><span class=\"sc-fjdhpX brAVUb sc-gZMcBi jzMgtX\">12%(₹7,867)</span></div></div></div>,\n",
       " <div class=\"sp__chip sc-fjdhpX jsJEcL\"><div background=\"lightGreen1\" bordercolor=\"\" class=\"sc-iAyFgw fDJYew\">offers available</div><div background=\"lightGreen1\" bordercolor=\"\" class=\"sc-iAyFgw fDJYew\">No Cost EMI</div></div>]"
      ]
     },
     "execution_count": 89,
     "metadata": {},
     "output_type": "execute_result"
    }
   ],
   "source": [
    "first_result.contents"
   ]
  },
  {
   "cell_type": "code",
   "execution_count": 90,
   "metadata": {},
   "outputs": [
    {
     "data": {
      "text/plain": [
       "'₹59,999'"
      ]
     },
     "execution_count": 90,
     "metadata": {},
     "output_type": "execute_result"
    }
   ],
   "source": [
    "lappy_price = first_result.find('span').text\n",
    "lappy_price"
   ]
  },
  {
   "cell_type": "code",
   "execution_count": 91,
   "metadata": {},
   "outputs": [
    {
     "data": {
      "text/plain": [
       "'₹67866'"
      ]
     },
     "execution_count": 91,
     "metadata": {},
     "output_type": "execute_result"
    }
   ],
   "source": [
    "mrp_h=first_result.find('em').text\n",
    "mrp_h\n",
    "\n"
   ]
  },
  {
   "cell_type": "code",
   "execution_count": 92,
   "metadata": {},
   "outputs": [
    {
     "data": {
      "text/plain": [
       "'12%(₹7,867)'"
      ]
     },
     "execution_count": 92,
     "metadata": {},
     "output_type": "execute_result"
    }
   ],
   "source": [
    "off_h = first_result.find('span',{'class':\"sc-fjdhpX brAVUb sc-gZMcBi jzMgtX\"}).text\n",
    "off_h"
   ]
  },
  {
   "cell_type": "code",
   "execution_count": 93,
   "metadata": {},
   "outputs": [],
   "source": [
    "lappy_name=[]\n",
    "lappy_price=[]\n",
    "lappy_mrp=[]\n",
    "lappy_discount=[]\n",
    "for i in range(len(results)):\n",
    "    temp_name = results[i].find('p').text\n",
    "    temp_price = results[i].find('span').text\n",
    "    temp_mrp = results[i].find('em').text\n",
    "    temp_discount = results[i].find('span',{'class':\"sc-fjdhpX brAVUb sc-gZMcBi jzMgtX\"}).text\n",
    "    lappy_name.append(temp_name)\n",
    "    lappy_price.append(temp_price)\n",
    "    lappy_mrp.append(temp_mrp)\n",
    "    lappy_discount.append(temp_discount)"
   ]
  },
  {
   "cell_type": "code",
   "execution_count": 94,
   "metadata": {},
   "outputs": [
    {
     "data": {
      "text/plain": [
       "['HP 15-cs1000TX Pavilion Laptop (8th Gen Intel Core i5-8650U/8GB/1TB HDD/2GB 130MX GFX Graphics/Windows 10/MSO/FHD), 39.62 cm (15.6 inch)',\n",
       " 'HP 13-ap0121tu Spectre x360 Laptop (8th Gen Intel Core i5-8265U/8GB/256GB SSD/Windows Pro/MSO/FHD), 33.78 cm (13.3 inch)',\n",
       " 'HP 15-da0101TU Laptop (Intel Pentium Quad Core/4GB/1TB HDD/Windows 10), 39.62 cm (15.6 inch)',\n",
       " 'HP 15-dk0047tx Pavilion Gaming Laptop (9th Gen Intel Core i5-9300H/8GB/1TB HDD + 256GB SSD/4GB GTX 1650 Graphics/Windows 10/FHD), 39.62 cm (15.6 inch)',\n",
       " 'HP 14S-ER0002TU Laptop (10th Gen Core i3-1005G1/4GB/1TB HDD/Windows 10/MSO/FHD), 35.56 cm (14 inch)',\n",
       " 'HP 15-cs3007tx Pavilion Laptop (10th Gen Intel Core i5-1035G1/8GB/1TB HDD + 256GB SSD/2GB Graphics/Windows 10/MSO/FHD Touchscreen), 39.62 cm (15.6 inch)',\n",
       " 'HP 15s-du1034tu Laptop (10th Gen Intel Core i5-10210U/8GB/1TB HDD/Windows 10/MSO/FHD), 39.62 cm (15.6 inch)',\n",
       " 'HP 15s-dr1000tu Laptop (10th Gen Intel Core i5-10210U/8GB/1TB HDD + 256GB SSD/Windows 10/MSO/FHD), 39.62 cm (15.6 inch)',\n",
       " 'HP 33.78 cm (13.3 inch) ENVY X360 Convertible Laptop (AMD/Ryzen 5/2.1 GHz/8 GB/512 GB), 13-ar0118au',\n",
       " 'HP 15s-du0121tu Laptop (8th Gen Intel Core i3-8145U/4GB/1TB HDD/Windows 10/MSO/FHD), 39.62 cm (15.6 inch)',\n",
       " 'HP 14-dh1025tx Pavilion x360 Laptop (10th Gen Intel Core i5-10210/8GB/1TB HDD + 256GB SSD/2GB Nvidia MX130 Graphics/Windows 10/MSO/FHD Touchscreen), 35.56 cm (14 inch)',\n",
       " 'HP 15-db1060au Laptop (AMD Ryzen 3-3200U/4GB/1TB HDD + 256GB SSD/Windows 10/MSO/FHD), 39.62 cm (15.6 inch)',\n",
       " 'HP 11-ad022TU Pavilion x360 Laptop (7th Gen Intel Core i3-7100U/4GB/1TB HDD/On Board Graphics/Windows 10/Touchscreen), 28.09 cm (11.06 inch)',\n",
       " 'HP 15-db1059au Notebook Laptop (AMD Ryzen 3 3200U/4 GB/1 TB HDD/Windows 10/MSO/FHD), 39.62 cm (15.6 inch)',\n",
       " 'HP 11-ad106TU Pavilion x360 Laptop (8th Gen Intel Core i3-8130U/4GB/1TB HDD/Windows 10/Touchscreen), 27.94 cm (11 inch)',\n",
       " 'HP 15S-du0094tu Laptop (8th Gen Intel Core i3-8145U/8GB/1TB HDD/Windows 10/MSO/FHD), 39.62 cm (15.6 inch)',\n",
       " 'HP 39.62 cm (15.6 inch) Pavilion Gaming Laptop (9th Gen Core i7/2.6 GHz/8 GB/1 TB + 256 GB), 15-dk0049tx',\n",
       " 'HP 39.62 cm (15.6 inch) Pavilion Gaming Laptop (9th Gen Core i7/2.6 GHz/8 GB/1 TB + 256 GB), 15-dk0050tx',\n",
       " 'HP 15-dk0046tx Pavilion Gaming Laptop (9th Gen Intel Core i5-9300H/8GB/1TB HDD + 256GB SSD/4GB GTX 1050 Graphics/Windows 10/MSO/FHD), 39.62 cm (15.6 inch)',\n",
       " 'HP 14q-cs0017tu Laptop (8th Gen Intel Core i5-8265U/8GB/1TB HDD/Windows 10/MSO/HD), 35.56 cm (14 inch)',\n",
       " 'HP 14-dh1010TU Pavilion x360 Laptop (10th Gen Intel Core i5-10210/8GB/256GB SSD/Windows 10/MSO/FHD Touchscreen), 35.56 cm (14 inch)',\n",
       " 'HP 14-dh1026tx Pavilion x360 Laptop (10th Gen Intel Core i7-10510U/16GB/512GB SSD/2GB Nvidia MX250 Graphics/Windows 10/MSO/FHD Touchscreen), 35.56 cm (14 inch)',\n",
       " 'HP 14-dh1007tu Pavilion x360 Laptop (10th Gen Intel Core i3-10110U/4GB/256GB SSD/4GB Graphics/Windows 10/MSO/FHD), 35.56 cm (14 inch)',\n",
       " 'HP 15-cs3006tx Pavilion Laptop (10th Gen Intel Core i5-1035G1/8GB/1TB HDD + 256GB SSD/2GB Graphics/Windows 10/MSO/FHD), 39.62 cm (15.6 inch)']"
      ]
     },
     "execution_count": 94,
     "metadata": {},
     "output_type": "execute_result"
    }
   ],
   "source": [
    "lappy_name"
   ]
  },
  {
   "cell_type": "code",
   "execution_count": 95,
   "metadata": {},
   "outputs": [
    {
     "data": {
      "text/plain": [
       "['₹59,999',\n",
       " '₹120,999',\n",
       " '₹25,899',\n",
       " '₹75,499',\n",
       " '₹47,499',\n",
       " '₹70,499',\n",
       " '₹52,999',\n",
       " '₹60,999',\n",
       " '₹74,999',\n",
       " '₹35,999',\n",
       " '₹86,999',\n",
       " '₹36,999',\n",
       " '₹38,999',\n",
       " '₹32,999',\n",
       " '₹42,999',\n",
       " '₹40,699',\n",
       " '₹89,999',\n",
       " '₹95,999',\n",
       " '₹69,999',\n",
       " '₹46,999',\n",
       " '₹71,999',\n",
       " '₹102,999',\n",
       " '₹52,999',\n",
       " '₹68,999']"
      ]
     },
     "execution_count": 95,
     "metadata": {},
     "output_type": "execute_result"
    }
   ],
   "source": [
    "lappy_price"
   ]
  },
  {
   "cell_type": "code",
   "execution_count": 96,
   "metadata": {},
   "outputs": [
    {
     "data": {
      "text/plain": [
       "['₹67866',\n",
       " '₹149874',\n",
       " '₹28184',\n",
       " '₹84870',\n",
       " '₹53098',\n",
       " '₹78838',\n",
       " '₹57396',\n",
       " '₹66167',\n",
       " '₹80008',\n",
       " '₹44627',\n",
       " '₹94042',\n",
       " '₹38680',\n",
       " '₹41347',\n",
       " '₹34590',\n",
       " '₹43756',\n",
       " '₹45349',\n",
       " '₹94505',\n",
       " '₹100929',\n",
       " '₹76305',\n",
       " '₹58466',\n",
       " '₹78838',\n",
       " '₹115095',\n",
       " '₹55579',\n",
       " '₹75329']"
      ]
     },
     "execution_count": 96,
     "metadata": {},
     "output_type": "execute_result"
    }
   ],
   "source": [
    "lappy_mrp"
   ]
  },
  {
   "cell_type": "code",
   "execution_count": 97,
   "metadata": {},
   "outputs": [
    {
     "data": {
      "text/plain": [
       "['12%(₹7,867)',\n",
       " '19%(₹28,875)',\n",
       " '8%(₹2,285)',\n",
       " '11%(₹9,371)',\n",
       " '11%(₹5,599)',\n",
       " '11%(₹8,339)',\n",
       " '8%(₹4,397)',\n",
       " '8%(₹5,168)',\n",
       " '6%(₹5,009)',\n",
       " '19%(₹8,628)',\n",
       " '7%(₹7,043)',\n",
       " '4%(₹1,681)',\n",
       " '6%(₹2,348)',\n",
       " '5%(₹1,591)',\n",
       " '2%(₹757)',\n",
       " '10%(₹4,650)',\n",
       " '5%(₹4,506)',\n",
       " '5%(₹4,930)',\n",
       " '8%(₹6,306)',\n",
       " '20%(₹11,467)',\n",
       " '9%(₹6,839)',\n",
       " '11%(₹12,096)',\n",
       " '5%(₹2,580)',\n",
       " '8%(₹6,330)']"
      ]
     },
     "execution_count": 97,
     "metadata": {},
     "output_type": "execute_result"
    }
   ],
   "source": [
    "lappy_discount"
   ]
  },
  {
   "cell_type": "code",
   "execution_count": 99,
   "metadata": {},
   "outputs": [],
   "source": [
    "import pandas as pd\n",
    "import numpy as np"
   ]
  },
  {
   "cell_type": "code",
   "execution_count": 104,
   "metadata": {},
   "outputs": [],
   "source": [
    "list = np.array([lappy_name,lappy_price,lappy_mrp,lappy_discount]).T\n"
   ]
  },
  {
   "cell_type": "code",
   "execution_count": 105,
   "metadata": {},
   "outputs": [],
   "source": [
    "df = pd.DataFrame(list,columns = ['lappy_name','lappy_price','lappy_mrp','lappy_discount'])"
   ]
  },
  {
   "cell_type": "code",
   "execution_count": 106,
   "metadata": {},
   "outputs": [
    {
     "data": {
      "text/html": [
       "<div>\n",
       "<style scoped>\n",
       "    .dataframe tbody tr th:only-of-type {\n",
       "        vertical-align: middle;\n",
       "    }\n",
       "\n",
       "    .dataframe tbody tr th {\n",
       "        vertical-align: top;\n",
       "    }\n",
       "\n",
       "    .dataframe thead th {\n",
       "        text-align: right;\n",
       "    }\n",
       "</style>\n",
       "<table border=\"1\" class=\"dataframe\">\n",
       "  <thead>\n",
       "    <tr style=\"text-align: right;\">\n",
       "      <th></th>\n",
       "      <th>lappy_name</th>\n",
       "      <th>lappy_price</th>\n",
       "      <th>lappy_mrp</th>\n",
       "      <th>lappy_discount</th>\n",
       "    </tr>\n",
       "  </thead>\n",
       "  <tbody>\n",
       "    <tr>\n",
       "      <th>0</th>\n",
       "      <td>HP 15-cs1000TX Pavilion Laptop (8th Gen Intel ...</td>\n",
       "      <td>₹59,999</td>\n",
       "      <td>₹67866</td>\n",
       "      <td>12%(₹7,867)</td>\n",
       "    </tr>\n",
       "    <tr>\n",
       "      <th>1</th>\n",
       "      <td>HP 13-ap0121tu Spectre x360 Laptop (8th Gen In...</td>\n",
       "      <td>₹120,999</td>\n",
       "      <td>₹149874</td>\n",
       "      <td>19%(₹28,875)</td>\n",
       "    </tr>\n",
       "    <tr>\n",
       "      <th>2</th>\n",
       "      <td>HP 15-da0101TU Laptop (Intel Pentium Quad Core...</td>\n",
       "      <td>₹25,899</td>\n",
       "      <td>₹28184</td>\n",
       "      <td>8%(₹2,285)</td>\n",
       "    </tr>\n",
       "    <tr>\n",
       "      <th>3</th>\n",
       "      <td>HP 15-dk0047tx Pavilion Gaming Laptop (9th Gen...</td>\n",
       "      <td>₹75,499</td>\n",
       "      <td>₹84870</td>\n",
       "      <td>11%(₹9,371)</td>\n",
       "    </tr>\n",
       "    <tr>\n",
       "      <th>4</th>\n",
       "      <td>HP 14S-ER0002TU Laptop (10th Gen Core i3-1005G...</td>\n",
       "      <td>₹47,499</td>\n",
       "      <td>₹53098</td>\n",
       "      <td>11%(₹5,599)</td>\n",
       "    </tr>\n",
       "    <tr>\n",
       "      <th>5</th>\n",
       "      <td>HP 15-cs3007tx Pavilion Laptop (10th Gen Intel...</td>\n",
       "      <td>₹70,499</td>\n",
       "      <td>₹78838</td>\n",
       "      <td>11%(₹8,339)</td>\n",
       "    </tr>\n",
       "    <tr>\n",
       "      <th>6</th>\n",
       "      <td>HP 15s-du1034tu Laptop (10th Gen Intel Core i5...</td>\n",
       "      <td>₹52,999</td>\n",
       "      <td>₹57396</td>\n",
       "      <td>8%(₹4,397)</td>\n",
       "    </tr>\n",
       "    <tr>\n",
       "      <th>7</th>\n",
       "      <td>HP 15s-dr1000tu Laptop (10th Gen Intel Core i5...</td>\n",
       "      <td>₹60,999</td>\n",
       "      <td>₹66167</td>\n",
       "      <td>8%(₹5,168)</td>\n",
       "    </tr>\n",
       "    <tr>\n",
       "      <th>8</th>\n",
       "      <td>HP 33.78 cm (13.3 inch) ENVY X360 Convertible ...</td>\n",
       "      <td>₹74,999</td>\n",
       "      <td>₹80008</td>\n",
       "      <td>6%(₹5,009)</td>\n",
       "    </tr>\n",
       "    <tr>\n",
       "      <th>9</th>\n",
       "      <td>HP 15s-du0121tu Laptop (8th Gen Intel Core i3-...</td>\n",
       "      <td>₹35,999</td>\n",
       "      <td>₹44627</td>\n",
       "      <td>19%(₹8,628)</td>\n",
       "    </tr>\n",
       "    <tr>\n",
       "      <th>10</th>\n",
       "      <td>HP 14-dh1025tx Pavilion x360 Laptop (10th Gen ...</td>\n",
       "      <td>₹86,999</td>\n",
       "      <td>₹94042</td>\n",
       "      <td>7%(₹7,043)</td>\n",
       "    </tr>\n",
       "    <tr>\n",
       "      <th>11</th>\n",
       "      <td>HP 15-db1060au Laptop (AMD Ryzen 3-3200U/4GB/1...</td>\n",
       "      <td>₹36,999</td>\n",
       "      <td>₹38680</td>\n",
       "      <td>4%(₹1,681)</td>\n",
       "    </tr>\n",
       "    <tr>\n",
       "      <th>12</th>\n",
       "      <td>HP 11-ad022TU Pavilion x360 Laptop (7th Gen In...</td>\n",
       "      <td>₹38,999</td>\n",
       "      <td>₹41347</td>\n",
       "      <td>6%(₹2,348)</td>\n",
       "    </tr>\n",
       "    <tr>\n",
       "      <th>13</th>\n",
       "      <td>HP 15-db1059au Notebook Laptop (AMD Ryzen 3 32...</td>\n",
       "      <td>₹32,999</td>\n",
       "      <td>₹34590</td>\n",
       "      <td>5%(₹1,591)</td>\n",
       "    </tr>\n",
       "    <tr>\n",
       "      <th>14</th>\n",
       "      <td>HP 11-ad106TU Pavilion x360 Laptop (8th Gen In...</td>\n",
       "      <td>₹42,999</td>\n",
       "      <td>₹43756</td>\n",
       "      <td>2%(₹757)</td>\n",
       "    </tr>\n",
       "    <tr>\n",
       "      <th>15</th>\n",
       "      <td>HP 15S-du0094tu Laptop (8th Gen Intel Core i3-...</td>\n",
       "      <td>₹40,699</td>\n",
       "      <td>₹45349</td>\n",
       "      <td>10%(₹4,650)</td>\n",
       "    </tr>\n",
       "    <tr>\n",
       "      <th>16</th>\n",
       "      <td>HP 39.62 cm (15.6 inch) Pavilion Gaming Laptop...</td>\n",
       "      <td>₹89,999</td>\n",
       "      <td>₹94505</td>\n",
       "      <td>5%(₹4,506)</td>\n",
       "    </tr>\n",
       "    <tr>\n",
       "      <th>17</th>\n",
       "      <td>HP 39.62 cm (15.6 inch) Pavilion Gaming Laptop...</td>\n",
       "      <td>₹95,999</td>\n",
       "      <td>₹100929</td>\n",
       "      <td>5%(₹4,930)</td>\n",
       "    </tr>\n",
       "    <tr>\n",
       "      <th>18</th>\n",
       "      <td>HP 15-dk0046tx Pavilion Gaming Laptop (9th Gen...</td>\n",
       "      <td>₹69,999</td>\n",
       "      <td>₹76305</td>\n",
       "      <td>8%(₹6,306)</td>\n",
       "    </tr>\n",
       "    <tr>\n",
       "      <th>19</th>\n",
       "      <td>HP 14q-cs0017tu Laptop (8th Gen Intel Core i5-...</td>\n",
       "      <td>₹46,999</td>\n",
       "      <td>₹58466</td>\n",
       "      <td>20%(₹11,467)</td>\n",
       "    </tr>\n",
       "    <tr>\n",
       "      <th>20</th>\n",
       "      <td>HP 14-dh1010TU Pavilion x360 Laptop (10th Gen ...</td>\n",
       "      <td>₹71,999</td>\n",
       "      <td>₹78838</td>\n",
       "      <td>9%(₹6,839)</td>\n",
       "    </tr>\n",
       "    <tr>\n",
       "      <th>21</th>\n",
       "      <td>HP 14-dh1026tx Pavilion x360 Laptop (10th Gen ...</td>\n",
       "      <td>₹102,999</td>\n",
       "      <td>₹115095</td>\n",
       "      <td>11%(₹12,096)</td>\n",
       "    </tr>\n",
       "    <tr>\n",
       "      <th>22</th>\n",
       "      <td>HP 14-dh1007tu Pavilion x360 Laptop (10th Gen ...</td>\n",
       "      <td>₹52,999</td>\n",
       "      <td>₹55579</td>\n",
       "      <td>5%(₹2,580)</td>\n",
       "    </tr>\n",
       "    <tr>\n",
       "      <th>23</th>\n",
       "      <td>HP 15-cs3006tx Pavilion Laptop (10th Gen Intel...</td>\n",
       "      <td>₹68,999</td>\n",
       "      <td>₹75329</td>\n",
       "      <td>8%(₹6,330)</td>\n",
       "    </tr>\n",
       "  </tbody>\n",
       "</table>\n",
       "</div>"
      ],
      "text/plain": [
       "                                           lappy_name lappy_price lappy_mrp  \\\n",
       "0   HP 15-cs1000TX Pavilion Laptop (8th Gen Intel ...     ₹59,999    ₹67866   \n",
       "1   HP 13-ap0121tu Spectre x360 Laptop (8th Gen In...    ₹120,999   ₹149874   \n",
       "2   HP 15-da0101TU Laptop (Intel Pentium Quad Core...     ₹25,899    ₹28184   \n",
       "3   HP 15-dk0047tx Pavilion Gaming Laptop (9th Gen...     ₹75,499    ₹84870   \n",
       "4   HP 14S-ER0002TU Laptop (10th Gen Core i3-1005G...     ₹47,499    ₹53098   \n",
       "5   HP 15-cs3007tx Pavilion Laptop (10th Gen Intel...     ₹70,499    ₹78838   \n",
       "6   HP 15s-du1034tu Laptop (10th Gen Intel Core i5...     ₹52,999    ₹57396   \n",
       "7   HP 15s-dr1000tu Laptop (10th Gen Intel Core i5...     ₹60,999    ₹66167   \n",
       "8   HP 33.78 cm (13.3 inch) ENVY X360 Convertible ...     ₹74,999    ₹80008   \n",
       "9   HP 15s-du0121tu Laptop (8th Gen Intel Core i3-...     ₹35,999    ₹44627   \n",
       "10  HP 14-dh1025tx Pavilion x360 Laptop (10th Gen ...     ₹86,999    ₹94042   \n",
       "11  HP 15-db1060au Laptop (AMD Ryzen 3-3200U/4GB/1...     ₹36,999    ₹38680   \n",
       "12  HP 11-ad022TU Pavilion x360 Laptop (7th Gen In...     ₹38,999    ₹41347   \n",
       "13  HP 15-db1059au Notebook Laptop (AMD Ryzen 3 32...     ₹32,999    ₹34590   \n",
       "14  HP 11-ad106TU Pavilion x360 Laptop (8th Gen In...     ₹42,999    ₹43756   \n",
       "15  HP 15S-du0094tu Laptop (8th Gen Intel Core i3-...     ₹40,699    ₹45349   \n",
       "16  HP 39.62 cm (15.6 inch) Pavilion Gaming Laptop...     ₹89,999    ₹94505   \n",
       "17  HP 39.62 cm (15.6 inch) Pavilion Gaming Laptop...     ₹95,999   ₹100929   \n",
       "18  HP 15-dk0046tx Pavilion Gaming Laptop (9th Gen...     ₹69,999    ₹76305   \n",
       "19  HP 14q-cs0017tu Laptop (8th Gen Intel Core i5-...     ₹46,999    ₹58466   \n",
       "20  HP 14-dh1010TU Pavilion x360 Laptop (10th Gen ...     ₹71,999    ₹78838   \n",
       "21  HP 14-dh1026tx Pavilion x360 Laptop (10th Gen ...    ₹102,999   ₹115095   \n",
       "22  HP 14-dh1007tu Pavilion x360 Laptop (10th Gen ...     ₹52,999    ₹55579   \n",
       "23  HP 15-cs3006tx Pavilion Laptop (10th Gen Intel...     ₹68,999    ₹75329   \n",
       "\n",
       "   lappy_discount  \n",
       "0     12%(₹7,867)  \n",
       "1    19%(₹28,875)  \n",
       "2      8%(₹2,285)  \n",
       "3     11%(₹9,371)  \n",
       "4     11%(₹5,599)  \n",
       "5     11%(₹8,339)  \n",
       "6      8%(₹4,397)  \n",
       "7      8%(₹5,168)  \n",
       "8      6%(₹5,009)  \n",
       "9     19%(₹8,628)  \n",
       "10     7%(₹7,043)  \n",
       "11     4%(₹1,681)  \n",
       "12     6%(₹2,348)  \n",
       "13     5%(₹1,591)  \n",
       "14       2%(₹757)  \n",
       "15    10%(₹4,650)  \n",
       "16     5%(₹4,506)  \n",
       "17     5%(₹4,930)  \n",
       "18     8%(₹6,306)  \n",
       "19   20%(₹11,467)  \n",
       "20     9%(₹6,839)  \n",
       "21   11%(₹12,096)  \n",
       "22     5%(₹2,580)  \n",
       "23     8%(₹6,330)  "
      ]
     },
     "execution_count": 106,
     "metadata": {},
     "output_type": "execute_result"
    }
   ],
   "source": [
    "df"
   ]
  },
  {
   "cell_type": "code",
   "execution_count": 109,
   "metadata": {},
   "outputs": [],
   "source": [
    "df.to_csv('Scrapped_data.csv',index = False)"
   ]
  },
  {
   "cell_type": "code",
   "execution_count": null,
   "metadata": {},
   "outputs": [],
   "source": []
  }
 ],
 "metadata": {
  "kernelspec": {
   "display_name": "Python 3",
   "language": "python",
   "name": "python3"
  },
  "language_info": {
   "codemirror_mode": {
    "name": "ipython",
    "version": 3
   },
   "file_extension": ".py",
   "mimetype": "text/x-python",
   "name": "python",
   "nbconvert_exporter": "python",
   "pygments_lexer": "ipython3",
   "version": "3.7.6"
  }
 },
 "nbformat": 4,
 "nbformat_minor": 4
}
